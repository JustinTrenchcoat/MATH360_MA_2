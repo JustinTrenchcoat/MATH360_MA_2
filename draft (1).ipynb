{
 "cells": [
  {
   "cell_type": "code",
   "execution_count": 24,
   "id": "7d4c0d46-7f51-4d1e-abcf-7024f103775d",
   "metadata": {},
   "outputs": [
    {
     "name": "stdout",
     "output_type": "stream",
     "text": [
      "     Type Symbol          Unit                                                        Description\n",
      " Variable      T            °C                                          Daily average temperature\n",
      " Variable      P            mm                                          Daily total precipitation\n",
      " Variable      C customers/day                  Total daily customer count (dependent on T and P)\n",
      "Parameter     C0 customers/day Baseline customer count at reference temperature and precipitation\n",
      "Parameter     T0            °C             Reference temperature, representing typical conditions\n",
      "Parameter     P0            mm           Reference precipitation, representing typical conditions\n",
      "Parameter      a  customers/°C                Sensitivity of customer count to temperature change\n",
      "Parameter      b  customers/mm              Sensitivity of customer count to precipitation change\n",
      "Parameter      S  CAD/customer                          Net revenue contribution by each customer\n",
      "Parameter      R           CAD                                                        Net revenue\n",
      "Parameter    QR4           CAD              Net revenue in the Fourth Quarter of an Academic Year\n",
      "Parameter                    M                                             Menu prices for drinks\n"
     ]
    },
    {
     "data": {
      "text/plain": [
       "(14.248138957816376, 10.582639005897219, 3.2037068239258635)"
      ]
     },
     "execution_count": 24,
     "metadata": {},
     "output_type": "execute_result"
    }
   ],
   "source": [
    "import pandas as pd\n",
    "data = {\n",
    "    \"Type\": [\"Variable\", \"Variable\", \"Variable\", \"Parameter\", \"Parameter\", \"Parameter\", \"Parameter\", \"Parameter\", \"Parameter\", \"Parameter\", \"Parameter\", \"Parameter\"],\n",
    "    \"Symbol\": [\"T\", \"P\", \"C\", \"C0\", \"T0\", \"P0\", \"a\", \"b\", \"S\", \"R\", \"QR4\", \"\"],\n",
    "    \"Unit\": [\"°C\", \"mm\", \"customers/day\", \"customers/day\", \"°C\", \"mm\", \"customers/°C\", \"customers/mm\", \"CAD/customer\", \"CAD\", \"CAD\", \"M\"],\n",
    "    \"Description\": [\n",
    "        \"Daily average temperature\",\n",
    "        \"Daily total precipitation\",\n",
    "        \"Total daily customer count (dependent on T and P)\",\n",
    "        \"Baseline customer count at reference temperature and precipitation\",\n",
    "        \"Reference temperature, representing typical conditions\",\n",
    "        \"Reference precipitation, representing typical conditions\",\n",
    "        \"Sensitivity of customer count to temperature change\",\n",
    "        \"Sensitivity of customer count to precipitation change\",\n",
    "        \"Net revenue contribution by each customer\",\n",
    "        \"Net revenue\",\n",
    "        \"Net revenue in the Fourth Quarter of an Academic Year\",\n",
    "        \"Menu prices for drinks\"\n",
    "    ]\n",
    "}\n",
    "\n",
    "# Creating the DataFrame\n",
    "table = pd.DataFrame(data)\n",
    "\n",
    "# Displaying the table\n",
    "print(table.to_string(index=False))\n",
    "\n",
    "customer_data = pd.read_csv('customer.csv')\n",
    "weather_data = pd.read_csv('vancouver_weather.csv')\n",
    "\n",
    "#Reference values\n",
    "C0 = customer_data['Monthly_Frequency_Customers'].mean()/31\n",
    "T0 = weather_data['avg_temperature'].mean()\n",
    "P0 = weather_data['precipitation'].mean()\n",
    "\n",
    "#Printing reference values\n",
    "C0, T0, P0"
   ]
  },
  {
   "cell_type": "code",
   "execution_count": null,
   "id": "0783fb27-8a9e-4f2f-8381-6c3722f0d81b",
   "metadata": {},
   "outputs": [],
   "source": []
  }
 ],
 "metadata": {
  "kernelspec": {
   "display_name": "Python 3 (ipykernel)",
   "language": "python",
   "name": "python3"
  },
  "language_info": {
   "codemirror_mode": {
    "name": "ipython",
    "version": 3
   },
   "file_extension": ".py",
   "mimetype": "text/x-python",
   "name": "python",
   "nbconvert_exporter": "python",
   "pygments_lexer": "ipython3",
   "version": "3.11.9"
  }
 },
 "nbformat": 4,
 "nbformat_minor": 5
}
