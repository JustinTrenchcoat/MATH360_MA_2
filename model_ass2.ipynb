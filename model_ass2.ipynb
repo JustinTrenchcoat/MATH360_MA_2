{
 "cells": [
  {
   "cell_type": "code",
   "execution_count": 33,
   "metadata": {},
   "outputs": [],
   "source": [
    "import pandas as pd\n",
    "import numpy as np\n",
    "import matplotlib.pyplot as plt\n",
    "from scipy.stats import gaussian_kde"
   ]
  },
  {
   "cell_type": "code",
   "execution_count": 14,
   "metadata": {},
   "outputs": [
    {
     "data": {
      "text/html": [
       "<div>\n",
       "<style scoped>\n",
       "    .dataframe tbody tr th:only-of-type {\n",
       "        vertical-align: middle;\n",
       "    }\n",
       "\n",
       "    .dataframe tbody tr th {\n",
       "        vertical-align: top;\n",
       "    }\n",
       "\n",
       "    .dataframe thead th {\n",
       "        text-align: right;\n",
       "    }\n",
       "</style>\n",
       "<table border=\"1\" class=\"dataframe\">\n",
       "  <thead>\n",
       "    <tr style=\"text-align: right;\">\n",
       "      <th></th>\n",
       "      <th>Hour</th>\n",
       "      <th>Monthly_Frequency_Customers</th>\n",
       "    </tr>\n",
       "  </thead>\n",
       "  <tbody>\n",
       "    <tr>\n",
       "      <th>0</th>\n",
       "      <td>7</td>\n",
       "      <td>259</td>\n",
       "    </tr>\n",
       "    <tr>\n",
       "      <th>1</th>\n",
       "      <td>8</td>\n",
       "      <td>250</td>\n",
       "    </tr>\n",
       "    <tr>\n",
       "      <th>2</th>\n",
       "      <td>9</td>\n",
       "      <td>346</td>\n",
       "    </tr>\n",
       "    <tr>\n",
       "      <th>3</th>\n",
       "      <td>10</td>\n",
       "      <td>335</td>\n",
       "    </tr>\n",
       "    <tr>\n",
       "      <th>4</th>\n",
       "      <td>11</td>\n",
       "      <td>722</td>\n",
       "    </tr>\n",
       "  </tbody>\n",
       "</table>\n",
       "</div>"
      ],
      "text/plain": [
       "   Hour  Monthly_Frequency_Customers\n",
       "0     7                          259\n",
       "1     8                          250\n",
       "2     9                          346\n",
       "3    10                          335\n",
       "4    11                          722"
      ]
     },
     "execution_count": 14,
     "metadata": {},
     "output_type": "execute_result"
    }
   ],
   "source": [
    "customer_df = pd.read_csv('data/customer.csv')\n",
    "\n",
    "customer_df.head()"
   ]
  },
  {
   "cell_type": "code",
   "execution_count": 32,
   "metadata": {},
   "outputs": [
    {
     "data": {
      "text/plain": [
       "(array([  2.,   2.,   7.,   6.,  18.,  27.,  41.,  65., 129., 223., 392.,\n",
       "        534., 712., 817., 831., 721., 626., 565., 541., 609., 654., 702.,\n",
       "        648., 378., 156.,  63.,  17.,   5.,   3.,   2.]),\n",
       " array([-11.55      , -10.21833333,  -8.88666667,  -7.555     ,\n",
       "         -6.22333333,  -4.89166667,  -3.56      ,  -2.22833333,\n",
       "         -0.89666667,   0.435     ,   1.76666667,   3.09833333,\n",
       "          4.43      ,   5.76166667,   7.09333333,   8.425     ,\n",
       "          9.75666667,  11.08833333,  12.42      ,  13.75166667,\n",
       "         15.08333333,  16.415     ,  17.74666667,  19.07833333,\n",
       "         20.41      ,  21.74166667,  23.07333333,  24.405     ,\n",
       "         25.73666667,  27.06833333,  28.4       ]),\n",
       " <BarContainer object of 30 artists>)"
      ]
     },
     "execution_count": 32,
     "metadata": {},
     "output_type": "execute_result"
    },
    {
     "data": {
      "image/png": "[encoded data removed]",
      "text/plain": [
       "<Figure size 640x480 with 1 Axes>"
      ]
     },
     "metadata": {},
     "output_type": "display_data"
    }
   ],
   "source": [
    "weather_df = pd.read_csv('data/vancouver_weather.csv')\n",
    "\n",
    "weather_df.head()\n",
    "\n",
    "plt.hist(weather_df['avg_temperature'], bins = 30)"
   ]
  },
  {
   "cell_type": "code",
   "execution_count": 34,
   "metadata": {},
   "outputs": [],
   "source": [
    "weather_kde = gaussian_kde(weather_df['avg_temperature'])"
   ]
  },
  {
   "cell_type": "code",
   "execution_count": 38,
   "metadata": {},
   "outputs": [
    {
     "data": {
      "text/plain": [
       "<function matplotlib.pyplot.show(close=None, block=None)>"
      ]
     },
     "execution_count": 38,
     "metadata": {},
     "output_type": "execute_result"
    },
    {
     "data": {
      "image/png": "[encoded data removed]",
      "text/plain": [
       "<Figure size 640x480 with 1 Axes>"
      ]
     },
     "metadata": {},
     "output_type": "display_data"
    }
   ],
   "source": [
    "plt.hist(weather_df['precipitation'], bins = 100, density = True)\n",
    "plt.show"
   ]
  },
  {
   "cell_type": "code",
   "execution_count": 40,
   "metadata": {},
   "outputs": [
    {
     "name": "stdout",
     "output_type": "stream",
     "text": [
      "3.2037068239258635\n"
     ]
    }
   ],
   "source": [
    "T_min = weather_df['avg_temperature'].min()\n",
    "T_max = weather_df['avg_temperature'].max()\n",
    "P_min = weather_df['precipitation'].min()\n",
    "P_max = weather_df['precipitation'].max()\n",
    "\n",
    "print(weather_df['precipitation'].mean())"
   ]
  },
  {
   "cell_type": "code",
   "execution_count": 16,
   "metadata": {},
   "outputs": [
    {
     "data": {
      "text/html": [
       "<div>\n",
       "<style scoped>\n",
       "    .dataframe tbody tr th:only-of-type {\n",
       "        vertical-align: middle;\n",
       "    }\n",
       "\n",
       "    .dataframe tbody tr th {\n",
       "        vertical-align: top;\n",
       "    }\n",
       "\n",
       "    .dataframe thead th {\n",
       "        text-align: right;\n",
       "    }\n",
       "</style>\n",
       "<table border=\"1\" class=\"dataframe\">\n",
       "  <thead>\n",
       "    <tr style=\"text-align: right;\">\n",
       "      <th></th>\n",
       "      <th>year</th>\n",
       "      <th>avg_temperature</th>\n",
       "      <th>precipitation</th>\n",
       "      <th>consumer</th>\n",
       "    </tr>\n",
       "  </thead>\n",
       "  <tbody>\n",
       "    <tr>\n",
       "      <th>0</th>\n",
       "      <td>1997</td>\n",
       "      <td>6.274839</td>\n",
       "      <td>7.741935</td>\n",
       "      <td>5742</td>\n",
       "    </tr>\n",
       "    <tr>\n",
       "      <th>1</th>\n",
       "      <td>1998</td>\n",
       "      <td>7.885484</td>\n",
       "      <td>2.612903</td>\n",
       "      <td>5742</td>\n",
       "    </tr>\n",
       "    <tr>\n",
       "      <th>2</th>\n",
       "      <td>1999</td>\n",
       "      <td>6.345161</td>\n",
       "      <td>3.383871</td>\n",
       "      <td>5742</td>\n",
       "    </tr>\n",
       "    <tr>\n",
       "      <th>3</th>\n",
       "      <td>2000</td>\n",
       "      <td>6.967097</td>\n",
       "      <td>3.522581</td>\n",
       "      <td>5742</td>\n",
       "    </tr>\n",
       "    <tr>\n",
       "      <th>4</th>\n",
       "      <td>2001</td>\n",
       "      <td>6.636452</td>\n",
       "      <td>3.877419</td>\n",
       "      <td>5742</td>\n",
       "    </tr>\n",
       "  </tbody>\n",
       "</table>\n",
       "</div>"
      ],
      "text/plain": [
       "   year  avg_temperature  precipitation  consumer\n",
       "0  1997         6.274839       7.741935      5742\n",
       "1  1998         7.885484       2.612903      5742\n",
       "2  1999         6.345161       3.383871      5742\n",
       "3  2000         6.967097       3.522581      5742\n",
       "4  2001         6.636452       3.877419      5742"
      ]
     },
     "execution_count": 16,
     "metadata": {},
     "output_type": "execute_result"
    }
   ],
   "source": [
    "weather_march = weather_df[weather_df['month'] == 3]\n",
    "\n",
    "weather_march = weather_march[['year', 'avg_temperature', 'precipitation']]\n",
    "\n",
    "weather_march = weather_march.groupby('year').mean().reset_index()\n",
    "\n",
    "weather_march['consumer'] = 5742\n",
    "\n",
    "weather_march.head()"
   ]
  },
  {
   "cell_type": "code",
   "execution_count": 17,
   "metadata": {},
   "outputs": [],
   "source": [
    "## c(T,P) = C_0 + a(T-T_0) - b(P-P_0)\n",
    "## a,b based on the month of March\n",
    "\n",
    "T_0 = weather_df['avg_temperature'].mean()\n",
    "P_0 = weather_df['precipitation'].mean()\n",
    "C_0 = 4000\n",
    "T = weather_march['avg_temperature'].mean()\n",
    "P = weather_march['precipitation'].mean()\n",
    "C = 5742\n",
    "\n",
    "# income_march = \n"
   ]
  },
  {
   "cell_type": "code",
   "execution_count": null,
   "metadata": {},
   "outputs": [],
   "source": [
    "## Monte Carlo\n",
    "\n",
    "t = np.linspace(0,365,1000)\n",
    "\n",
    "N = 2000\n",
    "Net_income_mc = []\n",
    "# T_0 = \n",
    "# P_0 = \n",
    "# C_0 = \n",
    "# a =\n",
    "# b = \n",
    "# income = \n",
    "\n",
    "for i in range(N): \n",
    "    T = weather_kde.resample(N)\n",
    "    P = np.random.exponential(weather_df['precipitation'].mean(), size = N)\n",
    "    customer = C_0 + a* (T-T_0) - b * (P-P_0)\n",
    "    Num_customer = np.max(customer, 0)\n",
    "    net_income = Num_customer * income\n",
    "    Net_income_mc.append(net_income)\n",
    "    plt.plot(t,net_income,'-c',alpha=0.3,linewidth=0.5)\n",
    "\n",
    "#convert to array to find mean -- python stores as list, need array\n",
    "Net_income_mc_ave = np.array(Net_income_mc)\n",
    "\n",
    "# Net_income_determin = income_march * t\n",
    "\n",
    "plt.plot(t,Net_income_mc_ave.mean(axis=0),'r',linewidth=1,label='Average') \n",
    "plt.plot(t,Net_income_determin, ':b',linewidth=1.5,label='Deterministic')\n",
    "plt.legend()\n",
    "plt.grid(True)\n",
    "plt.show()"
   ]
  }
 ],
 "metadata": {
  "kernelspec": {
   "display_name": "Python 3",
   "language": "python",
   "name": "python3"
  },
  "language_info": {
   "codemirror_mode": {
    "name": "ipython",
    "version": 3
   },
   "file_extension": ".py",
   "mimetype": "text/x-python",
   "name": "python",
   "nbconvert_exporter": "python",
   "pygments_lexer": "ipython3",
   "version": "3.11.5 (v3.11.5:cce6ba91b3, Aug 24 2023, 10:50:31) [Clang 13.0.0 (clang-1300.0.29.30)]"
  },
  "orig_nbformat": 4,
  "vscode": {
   "interpreter": {
    "hash": "aee8b7b246df8f9039afb4144a1f6fd8d2ca17a180786b69acc140d282b71a49"
   }
  }
 },
 "nbformat": 4,
 "nbformat_minor": 2
}
